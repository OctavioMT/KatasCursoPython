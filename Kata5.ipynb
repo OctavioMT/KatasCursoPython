{
 "cells": [
  {
   "cell_type": "markdown",
   "metadata": {},
   "source": [
    "Utilizar operadores aritméticos"
   ]
  },
  {
   "cell_type": "markdown",
   "metadata": {},
   "source": [
    "# Calcular la distancia entre planetas"
   ]
  },
  {
   "cell_type": "code",
   "execution_count": 17,
   "metadata": {},
   "outputs": [
    {
     "name": "stdout",
     "output_type": "stream",
     "text": [
      "La Distancian entre 2 planetas es:628949330Km\n",
      "La Distancian entre 2 planetas es:390577534millas\n"
     ]
    }
   ],
   "source": [
    "d1 =149597870 \n",
    "d2 =778547200 \n",
    "\n",
    "distancia1= abs(d1-d2)\n",
    "\n",
    "print(f'La Distancian entre 2 planetas es:{distancia1}' \"Km\")\n",
    "\n",
    "distancia2= round((abs(d2-d1))*0.621)\n",
    "\n",
    "print(f'La Distancian entre 2 planetas es:{distancia2}' \"millas\")\n"
   ]
  },
  {
   "cell_type": "code",
   "execution_count": 18,
   "metadata": {},
   "outputs": [],
   "source": [
    "distanciaSol1 = input('Introduzca la distancia del sol para el primer planeta')\n",
    "distanciaSol2 = input('Introduzca la distancia del sol para el segundo planeta')\n"
   ]
  },
  {
   "cell_type": "code",
   "execution_count": 19,
   "metadata": {},
   "outputs": [
    {
     "name": "stdout",
     "output_type": "stream",
     "text": [
      "123123\n",
      "12312312323423\n"
     ]
    }
   ],
   "source": [
    "distanciaSol1 = int(distanciaSol1)\n",
    "distanciaSol2 = int(distanciaSol2)\n",
    "\n",
    "print(distanciaSol1)\n",
    "print(distanciaSol2)"
   ]
  },
  {
   "cell_type": "code",
   "execution_count": 20,
   "metadata": {},
   "outputs": [
    {
     "name": "stdout",
     "output_type": "stream",
     "text": [
      "La Distancian entre 2 soles es:12311683374093Km\n"
     ]
    }
   ],
   "source": [
    "distancia1=abs(distanciaSol2-distancia1)\n",
    "\n",
    "print(f'La Distancian entre 2 soles es:{distancia1}' \"Km\")"
   ]
  },
  {
   "cell_type": "code",
   "execution_count": 21,
   "metadata": {},
   "outputs": [
    {
     "name": "stdout",
     "output_type": "stream",
     "text": [
      "La Distancian entre 2 soles es:12311683374093millas\n"
     ]
    }
   ],
   "source": [
    "distancia2=abs(distanciaSol2-distancia1)\n",
    "\n",
    "distancia2 = distancia2*0.621\n",
    "print(f'La Distancian entre 2 soles es:{distancia1}' \"millas\")"
   ]
  }
 ],
 "metadata": {
  "interpreter": {
   "hash": "7e2e06511a372e6582e15747b6cb247162c017c479c5e0985246f976cc732f61"
  },
  "kernelspec": {
   "display_name": "Python 3.10.2 64-bit (windows store)",
   "language": "python",
   "name": "python3"
  },
  "language_info": {
   "codemirror_mode": {
    "name": "ipython",
    "version": 3
   },
   "file_extension": ".py",
   "mimetype": "text/x-python",
   "name": "python",
   "nbconvert_exporter": "python",
   "pygments_lexer": "ipython3",
   "version": "3.10.2"
  },
  "orig_nbformat": 4
 },
 "nbformat": 4,
 "nbformat_minor": 2
}
