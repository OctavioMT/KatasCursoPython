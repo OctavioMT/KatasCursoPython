{
 "cells": [
  {
   "cell_type": "markdown",
   "metadata": {},
   "source": [
    "Uso de funciones en Python"
   ]
  },
  {
   "cell_type": "code",
   "execution_count": 9,
   "metadata": {},
   "outputs": [],
   "source": [
    "def promedioTanques(tanque1,tanque2,tanque3):\n",
    "    promedio=(tanque1+tanque2+tanque3)/3\n",
    "    #print(f'el promedio de combustible es: {promedio}')\n",
    "    return f'el promedio de combustible es: {promedio} litros'"
   ]
  },
  {
   "cell_type": "code",
   "execution_count": 10,
   "metadata": {},
   "outputs": [
    {
     "name": "stdout",
     "output_type": "stream",
     "text": [
      "el promedio de combustible es: 78.33333333333333 litros\n"
     ]
    }
   ],
   "source": [
    "print(promedioTanques(96, 90, 70))"
   ]
  },
  {
   "cell_type": "code",
   "execution_count": 17,
   "metadata": {},
   "outputs": [
    {
     "data": {
      "text/plain": [
       "85.33333333333333"
      ]
     },
     "execution_count": 17,
     "metadata": {},
     "output_type": "execute_result"
    }
   ],
   "source": [
    "def promedio(values):\n",
    "    sumatoria=sum(values)\n",
    "    numerosvalues=len(values)\n",
    "    #print(sumatoria / numerosvalues)\n",
    "    return sumatoria / numerosvalues\n",
    "\n",
    "promedio([96, 90, 70])"
   ]
  },
  {
   "cell_type": "code",
   "execution_count": 18,
   "metadata": {},
   "outputs": [
    {
     "name": "stdout",
     "output_type": "stream",
     "text": [
      "el promedio de combustible es: 85.33333333333333 litros\n"
     ]
    }
   ],
   "source": [
    "def promedioTanques(tanque1,tanque2,tanque3):\n",
    "    promedio1=promedio([tanque1, tanque2, tanque3])\n",
    "    #print(f'el promedio de combustible es: {promedio}')\n",
    "    return f'el promedio de combustible es: {promedio1} litros'\n",
    "\n",
    "print(promedioTanques(96, 90, 70))"
   ]
  },
  {
   "cell_type": "code",
   "execution_count": 19,
   "metadata": {},
   "outputs": [
    {
     "name": "stdout",
     "output_type": "stream",
     "text": [
      "Misiona a Jupiter\n",
      "    Prepararse antes de: 9000 horas\n",
      "    El tiempo de vuelo sera de: 3.6\n",
      "    El combustible en tanque principal es: 35344543 litros\n",
      "    El combustible de reserva es: 123412 litros\n",
      "     \n"
     ]
    }
   ],
   "source": [
    "# Función con un informe preciso de la misión. Considera hora de prelanzamiento, tiempo de vuelo, destino, tanque externo y tanque interno\n",
    "\n",
    "def reporteDeMision(horaPrelanzamiento, tiempoVuelo, destino, tanqueExterno, tanqueInterno):\n",
    "    return f\"\"\"Misiona a {destino}\n",
    "    Prepararse antes de las : {horaPrelanzamiento} horas\n",
    "    El tiempo de vuelo sera de: {tiempoVuelo} horas\n",
    "    El combustible en tanque principal es: {tanqueInterno} litros\n",
    "    El combustible de reserva es: {tanqueExterno} litros\n",
    "     \"\"\"\n",
    "\n",
    "print(reporteDeMision(9000,3.6, \"Jupiter\", 123412,35344543 ))"
   ]
  },
  {
   "cell_type": "code",
   "execution_count": 20,
   "metadata": {},
   "outputs": [
    {
     "name": "stdout",
     "output_type": "stream",
     "text": [
      "Misiona a  Marte\n",
      "     El tiempo de vuelo sera de: 190 minutos\n",
      "    El combustible total dentro de la nave es: 500000 Litros\n"
     ]
    }
   ],
   "source": [
    "# Escribe tu nueva función de reporte considerando lo anterior\n",
    "def reporteDeMision2(destino, *minutes, **fuel_reservoirs):\n",
    "    return f\"\"\"Misiona a  {destino}\n",
    "     El tiempo de vuelo sera de: {sum(minutes)} minutos\n",
    "    El combustible total dentro de la nave es: {sum(fuel_reservoirs.values())} Litros\"\"\"\n",
    "    \n",
    "\n",
    "print(reporteDeMision2(\"Marte\", 34, 66, 90, principal=300000, externo=200000))"
   ]
  },
  {
   "cell_type": "code",
   "execution_count": 25,
   "metadata": {},
   "outputs": [
    {
     "name": "stdout",
     "output_type": "stream",
     "text": [
      "Misiona a  Marte\n",
      "     El tiempo de vuelo sera de: 190 minutos\n",
      "     El combustible total dentro de la nave es: 2954443 Litros\n",
      "El tanque principal tiene 1723212 Litros\n",
      "\n",
      "El tanque externo tiene 1231231 Litros\n",
      "\n"
     ]
    }
   ],
   "source": [
    "def reporteDeMision3(destino, *minutes, **fuel_reservoirs):\n",
    "    reporte=f\"\"\"Misiona a  {destino}\n",
    "     El tiempo de vuelo sera de: {sum(minutes)} minutos\n",
    "     El combustible total dentro de la nave es: {sum(fuel_reservoirs.values())} Litros\"\"\"\n",
    "\n",
    "    for nombreTanque, combustible in fuel_reservoirs.items():\n",
    "        reporte += f\"\"\"\\nEl tanque {nombreTanque} tiene {combustible} Litros\\n\"\"\"\n",
    "\n",
    "\n",
    "    return reporte\n",
    "\n",
    "    \n",
    "    \n",
    "\n",
    "print(reporteDeMision3(\"Marte\", 34, 66, 90, principal=1723212, externo=1231231))# Escribe tu nueva función"
   ]
  }
 ],
 "metadata": {
  "interpreter": {
   "hash": "7e2e06511a372e6582e15747b6cb247162c017c479c5e0985246f976cc732f61"
  },
  "kernelspec": {
   "display_name": "Python 3.10.2 64-bit (windows store)",
   "language": "python",
   "name": "python3"
  },
  "language_info": {
   "codemirror_mode": {
    "name": "ipython",
    "version": 3
   },
   "file_extension": ".py",
   "mimetype": "text/x-python",
   "name": "python",
   "nbconvert_exporter": "python",
   "pygments_lexer": "ipython3",
   "version": "3.10.2"
  },
  "orig_nbformat": 4
 },
 "nbformat": 4,
 "nbformat_minor": 2
}
