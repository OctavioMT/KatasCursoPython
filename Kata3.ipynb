{
 "cells": [
  {
   "cell_type": "markdown",
   "metadata": {},
   "source": [
    "Logica Boolena"
   ]
  },
  {
   "cell_type": "code",
   "execution_count": 16,
   "metadata": {},
   "outputs": [
    {
     "name": "stdout",
     "output_type": "stream",
     "text": [
      "el asteroide viaja a una velocidad peligrosa\n"
     ]
    }
   ],
   "source": [
    "velocidadAsteroide = 49\n",
    "limiteVelocidad =25\n",
    "if velocidadAsteroide >limiteVelocidad:\n",
    "    print(\"el asteroide viaja a una velocidad peligrosa\")\n",
    "else:\n",
    "    print(\"No se detecto el asteroide\")"
   ]
  },
  {
   "cell_type": "code",
   "execution_count": 15,
   "metadata": {},
   "outputs": [
    {
     "name": "stdout",
     "output_type": "stream",
     "text": [
      "No se detecto el asteroide\n"
     ]
    }
   ],
   "source": [
    "velocidadAsteroide = 19\n",
    "limiteVelocidad =20\n",
    "if velocidadAsteroide >= limiteVelocidad:\n",
    "    print(\"alerta un asteroide se puede visualizar en el cielo, se acerca peligrosamente\")\n",
    "else:\n",
    "    print(\"No se detecto el asteroide\")"
   ]
  },
  {
   "cell_type": "code",
   "execution_count": 35,
   "metadata": {},
   "outputs": [
    {
     "name": "stdout",
     "output_type": "stream",
     "text": [
      "Se aproxima un asteroide de tamaño:101metros  Y viaja a una velocidad de:101 km/s CORRE!!!!\n"
     ]
    }
   ],
   "source": [
    "velocidadAsteroide = 101\n",
    "tamanoAsteroide = 101\n",
    "limiteVelocidad =20\n",
    "limiteTamano = 25\n",
    "\n",
    "if velocidadAsteroide >= limiteVelocidad and tamanoAsteroide > limiteTamano:\n",
    "    print(\"Se aproxima un asteroide de tamaño:\"+ str(tamanoAsteroide)+ \"metros\", \" Y viaja a una velocidad de:\"+str(velocidadAsteroide)+\" km/s\", \"CORRE!!!!\" )\n",
    "elif velocidadAsteroide >= limiteVelocidad:\n",
    "    print(\"el asteroide viaja a una velocidad peligrosa\")\n",
    "elif tamanoAsteroide >= limiteTamano:\n",
    "    print(\"Busca un rayo de luz en el cielo, y alejate de la trayectoria de la luz\")\n",
    "else:\n",
    "    print(\"No se detecto el asteroide\")"
   ]
  }
 ],
 "metadata": {
  "interpreter": {
   "hash": "7e2e06511a372e6582e15747b6cb247162c017c479c5e0985246f976cc732f61"
  },
  "kernelspec": {
   "display_name": "Python 3.10.2 64-bit (windows store)",
   "language": "python",
   "name": "python3"
  },
  "language_info": {
   "codemirror_mode": {
    "name": "ipython",
    "version": 3
   },
   "file_extension": ".py",
   "mimetype": "text/x-python",
   "name": "python",
   "nbconvert_exporter": "python",
   "pygments_lexer": "ipython3",
   "version": "3.10.2"
  },
  "orig_nbformat": 4
 },
 "nbformat": 4,
 "nbformat_minor": 2
}
